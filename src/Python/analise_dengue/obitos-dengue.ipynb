{
 "cells": [
  {
   "cell_type": "markdown",
   "metadata": {},
   "source": [
    "## Análise rápida dos dados de óbito por Dengue em todo o Brasil\n",
    "\n",
    "O conjunto de dados, contém os casos notificados de dengue que evoluíram para óbito. O cálculo de acordo com o `Ministério da Saúde` (MS), foi realizado utilizando números absolutos.\n",
    "\n",
    "O ano base utilizado para o cálculo foi de 2010, atualizado anualmente. Escolhemos analisar estes dados, para entender quais regiões apresentam o maior número de registros de óbitos por dengue.\n",
    "\n",
    "Conjunto de dados disponibilizados em: http://dados.gov.br/dataset/odm6_dengue"
   ]
  },
  {
   "cell_type": "code",
   "execution_count": 1,
   "metadata": {},
   "outputs": [],
   "source": [
    "import pandas as pd\n",
    "from plotnine import *"
   ]
  },
  {
   "cell_type": "markdown",
   "metadata": {},
   "source": [
    "Carregando os dados"
   ]
  },
  {
   "cell_type": "code",
   "execution_count": 2,
   "metadata": {},
   "outputs": [],
   "source": [
    "df_dengue = pd.read_csv('../../../dados/obitos-dengue/obitos_dengue.csv', sep = ',')"
   ]
  },
  {
   "cell_type": "markdown",
   "metadata": {},
   "source": [
    "Com os dados já carregados podemos começar a análise, inicialmente vamos explorar o dado, para começar a pensar em quais informações podemos obter através destes dados."
   ]
  },
  {
   "cell_type": "code",
   "execution_count": 3,
   "metadata": {},
   "outputs": [
    {
     "data": {
      "text/html": [
       "<div>\n",
       "<style scoped>\n",
       "    .dataframe tbody tr th:only-of-type {\n",
       "        vertical-align: middle;\n",
       "    }\n",
       "\n",
       "    .dataframe tbody tr th {\n",
       "        vertical-align: top;\n",
       "    }\n",
       "\n",
       "    .dataframe thead th {\n",
       "        text-align: right;\n",
       "    }\n",
       "</style>\n",
       "<table border=\"1\" class=\"dataframe\">\n",
       "  <thead>\n",
       "    <tr style=\"text-align: right;\">\n",
       "      <th></th>\n",
       "      <th>indicx</th>\n",
       "      <th>no_cidade</th>\n",
       "    </tr>\n",
       "  </thead>\n",
       "  <tbody>\n",
       "    <tr>\n",
       "      <th>0</th>\n",
       "      <td>0</td>\n",
       "      <td>Alta Floresta D'Oeste</td>\n",
       "    </tr>\n",
       "    <tr>\n",
       "      <th>1</th>\n",
       "      <td>0</td>\n",
       "      <td>Ariquemes</td>\n",
       "    </tr>\n",
       "    <tr>\n",
       "      <th>2</th>\n",
       "      <td>0</td>\n",
       "      <td>Cabixi</td>\n",
       "    </tr>\n",
       "    <tr>\n",
       "      <th>3</th>\n",
       "      <td>4</td>\n",
       "      <td>Cacoal</td>\n",
       "    </tr>\n",
       "    <tr>\n",
       "      <th>4</th>\n",
       "      <td>1</td>\n",
       "      <td>Cerejeiras</td>\n",
       "    </tr>\n",
       "  </tbody>\n",
       "</table>\n",
       "</div>"
      ],
      "text/plain": [
       "   indicx              no_cidade\n",
       "0       0  Alta Floresta D'Oeste\n",
       "1       0              Ariquemes\n",
       "2       0                 Cabixi\n",
       "3       4                 Cacoal\n",
       "4       1             Cerejeiras"
      ]
     },
     "execution_count": 3,
     "metadata": {},
     "output_type": "execute_result"
    }
   ],
   "source": [
    "# Exibindo os 5 primeiros itens do DataFrame.\n",
    "df_dengue.head(5)"
   ]
  },
  {
   "cell_type": "markdown",
   "metadata": {},
   "source": [
    "Veja que, há dois atributos dentro deste DataFrame, o `indicx`, que representa o índice de casos, e o `no_cidade`, que representa o nome da cidade.\n",
    "\n",
    "Bem, com esta informação básica, vamos entar obter informações gerais dos índices de casos presentes nos dados."
   ]
  },
  {
   "cell_type": "code",
   "execution_count": 4,
   "metadata": {},
   "outputs": [
    {
     "data": {
      "text/html": [
       "<div>\n",
       "<style scoped>\n",
       "    .dataframe tbody tr th:only-of-type {\n",
       "        vertical-align: middle;\n",
       "    }\n",
       "\n",
       "    .dataframe tbody tr th {\n",
       "        vertical-align: top;\n",
       "    }\n",
       "\n",
       "    .dataframe thead th {\n",
       "        text-align: right;\n",
       "    }\n",
       "</style>\n",
       "<table border=\"1\" class=\"dataframe\">\n",
       "  <thead>\n",
       "    <tr style=\"text-align: right;\">\n",
       "      <th></th>\n",
       "      <th>indicx</th>\n",
       "    </tr>\n",
       "  </thead>\n",
       "  <tbody>\n",
       "    <tr>\n",
       "      <th>count</th>\n",
       "      <td>5565.000000</td>\n",
       "    </tr>\n",
       "    <tr>\n",
       "      <th>mean</th>\n",
       "      <td>0.117880</td>\n",
       "    </tr>\n",
       "    <tr>\n",
       "      <th>std</th>\n",
       "      <td>0.915624</td>\n",
       "    </tr>\n",
       "    <tr>\n",
       "      <th>min</th>\n",
       "      <td>0.000000</td>\n",
       "    </tr>\n",
       "    <tr>\n",
       "      <th>25%</th>\n",
       "      <td>0.000000</td>\n",
       "    </tr>\n",
       "    <tr>\n",
       "      <th>50%</th>\n",
       "      <td>0.000000</td>\n",
       "    </tr>\n",
       "    <tr>\n",
       "      <th>75%</th>\n",
       "      <td>0.000000</td>\n",
       "    </tr>\n",
       "    <tr>\n",
       "      <th>max</th>\n",
       "      <td>28.000000</td>\n",
       "    </tr>\n",
       "  </tbody>\n",
       "</table>\n",
       "</div>"
      ],
      "text/plain": [
       "            indicx\n",
       "count  5565.000000\n",
       "mean      0.117880\n",
       "std       0.915624\n",
       "min       0.000000\n",
       "25%       0.000000\n",
       "50%       0.000000\n",
       "75%       0.000000\n",
       "max      28.000000"
      ]
     },
     "execution_count": 4,
     "metadata": {},
     "output_type": "execute_result"
    }
   ],
   "source": [
    "# Visão geral (estatística) dos dados\n",
    "df_dengue.describe()"
   ]
  },
  {
   "cell_type": "markdown",
   "metadata": {},
   "source": [
    "Veja que, ao utilizar o método `describe` conseguimos perceber que, além da média baixa, a cidade com maior indice de casos, tem 28, enquanto o mais baixo possui 0.\n",
    "\n",
    "Isto já é um primeiro passo na análise, vamos evoluir ela, descobrindo o nome da cidade com o maior índice, que anteriormente haviamos constatado como 28. "
   ]
  },
  {
   "cell_type": "markdown",
   "metadata": {},
   "source": [
    "## Cidade com maior índice de mortes causados por dengue\n",
    "\n",
    "Como citado acima, vamos verificar qual a cidade com o maior índice de mortes causados por dengue. Para isto utilizamos o método `query` presente dentro do `Pandas.DataFrame`"
   ]
  },
  {
   "cell_type": "code",
   "execution_count": 5,
   "metadata": {},
   "outputs": [
    {
     "data": {
      "text/html": [
       "<div>\n",
       "<style scoped>\n",
       "    .dataframe tbody tr th:only-of-type {\n",
       "        vertical-align: middle;\n",
       "    }\n",
       "\n",
       "    .dataframe tbody tr th {\n",
       "        vertical-align: top;\n",
       "    }\n",
       "\n",
       "    .dataframe thead th {\n",
       "        text-align: right;\n",
       "    }\n",
       "</style>\n",
       "<table border=\"1\" class=\"dataframe\">\n",
       "  <thead>\n",
       "    <tr style=\"text-align: right;\">\n",
       "      <th></th>\n",
       "      <th>indicx</th>\n",
       "      <th>no_cidade</th>\n",
       "    </tr>\n",
       "  </thead>\n",
       "  <tbody>\n",
       "    <tr>\n",
       "      <th>3477</th>\n",
       "      <td>28</td>\n",
       "      <td>Guarujá</td>\n",
       "    </tr>\n",
       "  </tbody>\n",
       "</table>\n",
       "</div>"
      ],
      "text/plain": [
       "      indicx no_cidade\n",
       "3477      28   Guarujá"
      ]
     },
     "execution_count": 5,
     "metadata": {},
     "output_type": "execute_result"
    }
   ],
   "source": [
    "df_dengue.query('indicx == indicx.max()')"
   ]
  },
  {
   "cell_type": "markdown",
   "metadata": {},
   "source": [
    "Perceba que conseguimos chegar a cidade de `Guarujá`, este já pode ser considerado uma informação obtida desta análise. Lembre-se, nem sempre a análise trará resultados grandiosos, em vários casos apenas uma simples informação já é de grande ajuda. Porém, neste caso, como este foi apenas o primeiro passo, vamos tentar descobrir mais coisas deste conjunto de dados.\n",
    "\n",
    "Vamos tentar agora verificar as 10 cidades com maior incidência de óbitos por dengue."
   ]
  },
  {
   "cell_type": "code",
   "execution_count": 6,
   "metadata": {},
   "outputs": [
    {
     "data": {
      "text/html": [
       "<div>\n",
       "<style scoped>\n",
       "    .dataframe tbody tr th:only-of-type {\n",
       "        vertical-align: middle;\n",
       "    }\n",
       "\n",
       "    .dataframe tbody tr th {\n",
       "        vertical-align: top;\n",
       "    }\n",
       "\n",
       "    .dataframe thead th {\n",
       "        text-align: right;\n",
       "    }\n",
       "</style>\n",
       "<table border=\"1\" class=\"dataframe\">\n",
       "  <thead>\n",
       "    <tr style=\"text-align: right;\">\n",
       "      <th></th>\n",
       "      <th>indicx</th>\n",
       "      <th>no_cidade</th>\n",
       "    </tr>\n",
       "  </thead>\n",
       "  <tbody>\n",
       "    <tr>\n",
       "      <th>3477</th>\n",
       "      <td>28</td>\n",
       "      <td>Guarujá</td>\n",
       "    </tr>\n",
       "    <tr>\n",
       "      <th>3808</th>\n",
       "      <td>24</td>\n",
       "      <td>Santos</td>\n",
       "    </tr>\n",
       "    <tr>\n",
       "      <th>5412</th>\n",
       "      <td>21</td>\n",
       "      <td>Goiânia</td>\n",
       "    </tr>\n",
       "    <tr>\n",
       "      <th>5118</th>\n",
       "      <td>21</td>\n",
       "      <td>Campo Grande</td>\n",
       "    </tr>\n",
       "    <tr>\n",
       "      <th>2308</th>\n",
       "      <td>16</td>\n",
       "      <td>Belo Horizonte</td>\n",
       "    </tr>\n",
       "    <tr>\n",
       "      <th>3835</th>\n",
       "      <td>15</td>\n",
       "      <td>São Vicente</td>\n",
       "    </tr>\n",
       "    <tr>\n",
       "      <th>2662</th>\n",
       "      <td>13</td>\n",
       "      <td>Juiz de Fora</td>\n",
       "    </tr>\n",
       "    <tr>\n",
       "      <th>3822</th>\n",
       "      <td>11</td>\n",
       "      <td>São José do Rio Preto</td>\n",
       "    </tr>\n",
       "    <tr>\n",
       "      <th>169</th>\n",
       "      <td>11</td>\n",
       "      <td>Belém</td>\n",
       "    </tr>\n",
       "    <tr>\n",
       "      <th>3725</th>\n",
       "      <td>10</td>\n",
       "      <td>Praia Grande</td>\n",
       "    </tr>\n",
       "  </tbody>\n",
       "</table>\n",
       "</div>"
      ],
      "text/plain": [
       "      indicx              no_cidade\n",
       "3477      28                Guarujá\n",
       "3808      24                 Santos\n",
       "5412      21                Goiânia\n",
       "5118      21           Campo Grande\n",
       "2308      16         Belo Horizonte\n",
       "3835      15            São Vicente\n",
       "2662      13           Juiz de Fora\n",
       "3822      11  São José do Rio Preto\n",
       "169       11                  Belém\n",
       "3725      10           Praia Grande"
      ]
     },
     "execution_count": 6,
     "metadata": {},
     "output_type": "execute_result"
    }
   ],
   "source": [
    "# Ordenamos os valores, e inserimos o argumento ascending como False\n",
    "# Logo, se a ordem crescente (ascending) é falsa, a ordenação será decrescente\n",
    "df_dengue.sort_values('indicx', ascending=False).head(10)"
   ]
  },
  {
   "cell_type": "markdown",
   "metadata": {},
   "source": [
    "Opa! Vemos que recuperamos as dez cidades, da que possui a maior quantidade para aquela que possui a menor quantidade, muito bacana =D\n",
    "\n",
    "Agora, olhando estes números, foi possível perceber que pode-se haver grupos de cidades com a mesma quantidade de óbitos, vamos então, agrupar os dados pelos valores dos indices para verificar quantos possíveis grupos são."
   ]
  },
  {
   "cell_type": "code",
   "execution_count": 7,
   "metadata": {},
   "outputs": [],
   "source": [
    "grupos_cidades_por_indice = df_dengue.groupby('indicx').agg('count')"
   ]
  },
  {
   "cell_type": "markdown",
   "metadata": {},
   "source": [
    "No comando acima, agrupamos as cidades através do índice de óbitos, assim, aquelas que tem o mesmo índice ficarão todos em um mesmo grupo. Após o agrupamento com o método `groupby`, uma agregação é utiliza para fazer com que, a quantidade de cidades em cada grupo seja contada."
   ]
  },
  {
   "cell_type": "code",
   "execution_count": 8,
   "metadata": {},
   "outputs": [
    {
     "data": {
      "text/html": [
       "<div>\n",
       "<style scoped>\n",
       "    .dataframe tbody tr th:only-of-type {\n",
       "        vertical-align: middle;\n",
       "    }\n",
       "\n",
       "    .dataframe tbody tr th {\n",
       "        vertical-align: top;\n",
       "    }\n",
       "\n",
       "    .dataframe thead th {\n",
       "        text-align: right;\n",
       "    }\n",
       "</style>\n",
       "<table border=\"1\" class=\"dataframe\">\n",
       "  <thead>\n",
       "    <tr style=\"text-align: right;\">\n",
       "      <th></th>\n",
       "      <th>no_cidade</th>\n",
       "    </tr>\n",
       "    <tr>\n",
       "      <th>indicx</th>\n",
       "      <th></th>\n",
       "    </tr>\n",
       "  </thead>\n",
       "  <tbody>\n",
       "    <tr>\n",
       "      <th>0</th>\n",
       "      <td>5279</td>\n",
       "    </tr>\n",
       "    <tr>\n",
       "      <th>1</th>\n",
       "      <td>188</td>\n",
       "    </tr>\n",
       "    <tr>\n",
       "      <th>2</th>\n",
       "      <td>44</td>\n",
       "    </tr>\n",
       "    <tr>\n",
       "      <th>3</th>\n",
       "      <td>15</td>\n",
       "    </tr>\n",
       "  </tbody>\n",
       "</table>\n",
       "</div>"
      ],
      "text/plain": [
       "        no_cidade\n",
       "indicx           \n",
       "0            5279\n",
       "1             188\n",
       "2              44\n",
       "3              15"
      ]
     },
     "execution_count": 8,
     "metadata": {},
     "output_type": "execute_result"
    }
   ],
   "source": [
    "grupos_cidades_por_indice.head(4) # Exibe os 4 primeiros elementos"
   ]
  },
  {
   "cell_type": "markdown",
   "metadata": {},
   "source": [
    "Bem, agora, vou `classificar` cada cidade, as classes utilizadas serão os valores do índice do mesmo conjunto de dados, isto está sendo feito basicamente para que, cada grupo fique explicitamente registrado no DataFrame, e não somente através do indice."
   ]
  },
  {
   "cell_type": "code",
   "execution_count": 9,
   "metadata": {
    "scrolled": true
   },
   "outputs": [],
   "source": [
    "grupos_cidades_por_indice.insert(0, 'classe', grupos_cidades_por_indice.index)"
   ]
  },
  {
   "cell_type": "code",
   "execution_count": 10,
   "metadata": {},
   "outputs": [
    {
     "data": {
      "text/html": [
       "<div>\n",
       "<style scoped>\n",
       "    .dataframe tbody tr th:only-of-type {\n",
       "        vertical-align: middle;\n",
       "    }\n",
       "\n",
       "    .dataframe tbody tr th {\n",
       "        vertical-align: top;\n",
       "    }\n",
       "\n",
       "    .dataframe thead th {\n",
       "        text-align: right;\n",
       "    }\n",
       "</style>\n",
       "<table border=\"1\" class=\"dataframe\">\n",
       "  <thead>\n",
       "    <tr style=\"text-align: right;\">\n",
       "      <th></th>\n",
       "      <th>classe</th>\n",
       "      <th>no_cidade</th>\n",
       "    </tr>\n",
       "    <tr>\n",
       "      <th>indicx</th>\n",
       "      <th></th>\n",
       "      <th></th>\n",
       "    </tr>\n",
       "  </thead>\n",
       "  <tbody>\n",
       "    <tr>\n",
       "      <th>0</th>\n",
       "      <td>0</td>\n",
       "      <td>5279</td>\n",
       "    </tr>\n",
       "    <tr>\n",
       "      <th>1</th>\n",
       "      <td>1</td>\n",
       "      <td>188</td>\n",
       "    </tr>\n",
       "    <tr>\n",
       "      <th>2</th>\n",
       "      <td>2</td>\n",
       "      <td>44</td>\n",
       "    </tr>\n",
       "    <tr>\n",
       "      <th>3</th>\n",
       "      <td>3</td>\n",
       "      <td>15</td>\n",
       "    </tr>\n",
       "    <tr>\n",
       "      <th>4</th>\n",
       "      <td>4</td>\n",
       "      <td>8</td>\n",
       "    </tr>\n",
       "  </tbody>\n",
       "</table>\n",
       "</div>"
      ],
      "text/plain": [
       "        classe  no_cidade\n",
       "indicx                   \n",
       "0            0       5279\n",
       "1            1        188\n",
       "2            2         44\n",
       "3            3         15\n",
       "4            4          8"
      ]
     },
     "execution_count": 10,
     "metadata": {},
     "output_type": "execute_result"
    }
   ],
   "source": [
    "grupos_cidades_por_indice.head(5)"
   ]
  },
  {
   "cell_type": "markdown",
   "metadata": {},
   "source": [
    "Ao olhar o DataFrame acima, percebe-se que, o indice tem o mesmo valor que o atributo que foi nomeado de classe, porém a diferença é que, estes valores estarão disponíveis dentro do DataFrame.\n",
    "\n",
    "Vamos agora fazer um `plot` para entender como estes valores estão divididos. No plot a classe de valores zero será excluído por conter muitos valores e dificultar a visualização de grupos que possuem poucas cidades."
   ]
  },
  {
   "cell_type": "code",
   "execution_count": 11,
   "metadata": {},
   "outputs": [],
   "source": [
    "# Removendo as classes zero\n",
    "grupos_cidades_por_indice_sem_zero = grupos_cidades_por_indice[grupos_cidades_por_indice['classe'] != 0]"
   ]
  },
  {
   "cell_type": "code",
   "execution_count": 12,
   "metadata": {},
   "outputs": [
    {
     "data": {
      "image/png": "[encoded data removed]",
      "text/plain": [
       "<Figure size 640x480 with 1 Axes>"
      ]
     },
     "metadata": {},
     "output_type": "display_data"
    },
    {
     "data": {
      "text/plain": [
       "<ggplot: (8741300311286)>"
      ]
     },
     "execution_count": 12,
     "metadata": {},
     "output_type": "execute_result"
    }
   ],
   "source": [
    "(ggplot(grupos_cidades_por_indice_sem_zero, aes(x = 'classe', y = 'no_cidade')) +\n",
    " geom_line()  + \n",
    " labs(title = 'Quantidade de cidades por caso',\n",
    "       y = 'Cidades',\n",
    "       x = 'Quantidade de casos') + \n",
    "  theme(axis_text_x = element_text(angle = 45, hjust = 1)))"
   ]
  },
  {
   "cell_type": "markdown",
   "metadata": {},
   "source": [
    "Olha que legal! Com o plot conseguimos entender bem melhor com é feito a distribuição de `Cidades X Quantidades de Casos`, perceba que, quanto maior a quantidade de casos, menor a quantidade de cidades com esta característica.\n",
    "\n",
    "Ao olhar o gráfico algumas dúvidas surgiram, será que nos valores demonstrados há capitais, e ainda, quais os valores médios das cidades com algum caso de óbito."
   ]
  },
  {
   "cell_type": "markdown",
   "metadata": {},
   "source": [
    "## Índice médio de casos de dengue\n",
    "\n",
    "Para facilitar a análise, nesta etapa será feito um filtro, já que, como queremos obter os valores médios, muitas quantidades de zero podem representar problemas no momento da obtenção da estatística, isto como ocorreu no início deste documento.\n",
    "\n",
    "Veja que, no caso deste conjunto de dados não há problemas em remover os valores com índice zero, porém, dependendo do dado, pode-se ter problemas ao remover valores do conjunto de dados."
   ]
  },
  {
   "cell_type": "code",
   "execution_count": 13,
   "metadata": {},
   "outputs": [],
   "source": [
    "cidades_com_algum_caso = df_dengue.query('indicx >= 1')"
   ]
  },
  {
   "cell_type": "markdown",
   "metadata": {},
   "source": [
    "Vamos verificar quantos valores tinham e quantos ficaram após este filtro."
   ]
  },
  {
   "cell_type": "code",
   "execution_count": 14,
   "metadata": {},
   "outputs": [
    {
     "name": "stdout",
     "output_type": "stream",
     "text": [
      "286 - cidades com algum caso de dengue\n",
      "5565 - Número geral de cidades no conjunto de dados\n"
     ]
    }
   ],
   "source": [
    "num_cidades_com_caso = len(cidades_com_algum_caso)\n",
    "num_gerais = len(df_dengue)\n",
    "\n",
    "print('{} - cidades com algum caso de dengue'.format(num_cidades_com_caso))\n",
    "print('{} - Número geral de cidades no conjunto de dados'.format(num_gerais))"
   ]
  },
  {
   "cell_type": "markdown",
   "metadata": {},
   "source": [
    "Vamos agora obter a média dos índices."
   ]
  },
  {
   "cell_type": "code",
   "execution_count": 15,
   "metadata": {},
   "outputs": [
    {
     "data": {
      "text/plain": [
       "2.2937062937062938"
      ]
     },
     "execution_count": 15,
     "metadata": {},
     "output_type": "execute_result"
    }
   ],
   "source": [
    "cidades_com_algum_caso['indicx'].mean()"
   ]
  },
  {
   "cell_type": "markdown",
   "metadata": {},
   "source": [
    "bem vamos obter cidades que possuem casos maiores ou iguais a média."
   ]
  },
  {
   "cell_type": "code",
   "execution_count": 16,
   "metadata": {},
   "outputs": [],
   "source": [
    "cidades_medias = cidades_com_algum_caso.query('indicx >= indicx.mean()')"
   ]
  },
  {
   "cell_type": "code",
   "execution_count": 17,
   "metadata": {},
   "outputs": [
    {
     "data": {
      "text/plain": [
       "2.2937062937062938"
      ]
     },
     "execution_count": 17,
     "metadata": {},
     "output_type": "execute_result"
    }
   ],
   "source": [
    "cidades_com_algum_caso['indicx'].mean()"
   ]
  },
  {
   "cell_type": "markdown",
   "metadata": {},
   "source": [
    "Vamos olhar algumas cidades com valores iguais ou acima da média. Lembre-se que, esta é a média dos valores entre as cidades que possuem algum caso de óbito."
   ]
  },
  {
   "cell_type": "code",
   "execution_count": 18,
   "metadata": {},
   "outputs": [
    {
     "data": {
      "text/html": [
       "<div>\n",
       "<style scoped>\n",
       "    .dataframe tbody tr th:only-of-type {\n",
       "        vertical-align: middle;\n",
       "    }\n",
       "\n",
       "    .dataframe tbody tr th {\n",
       "        vertical-align: top;\n",
       "    }\n",
       "\n",
       "    .dataframe thead th {\n",
       "        text-align: right;\n",
       "    }\n",
       "</style>\n",
       "<table border=\"1\" class=\"dataframe\">\n",
       "  <thead>\n",
       "    <tr style=\"text-align: right;\">\n",
       "      <th></th>\n",
       "      <th>indicx</th>\n",
       "      <th>no_cidade</th>\n",
       "    </tr>\n",
       "  </thead>\n",
       "  <tbody>\n",
       "    <tr>\n",
       "      <th>3</th>\n",
       "      <td>4</td>\n",
       "      <td>Cacoal</td>\n",
       "    </tr>\n",
       "    <tr>\n",
       "      <th>66</th>\n",
       "      <td>8</td>\n",
       "      <td>Rio Branco</td>\n",
       "    </tr>\n",
       "    <tr>\n",
       "      <th>111</th>\n",
       "      <td>5</td>\n",
       "      <td>Manaus</td>\n",
       "    </tr>\n",
       "    <tr>\n",
       "      <th>138</th>\n",
       "      <td>4</td>\n",
       "      <td>Boa Vista</td>\n",
       "    </tr>\n",
       "    <tr>\n",
       "      <th>160</th>\n",
       "      <td>3</td>\n",
       "      <td>Ananindeua</td>\n",
       "    </tr>\n",
       "  </tbody>\n",
       "</table>\n",
       "</div>"
      ],
      "text/plain": [
       "     indicx   no_cidade\n",
       "3         4      Cacoal\n",
       "66        8  Rio Branco\n",
       "111       5      Manaus\n",
       "138       4   Boa Vista\n",
       "160       3  Ananindeua"
      ]
     },
     "execution_count": 18,
     "metadata": {},
     "output_type": "execute_result"
    }
   ],
   "source": [
    "cidades_medias.head(5)"
   ]
  },
  {
   "cell_type": "markdown",
   "metadata": {},
   "source": [
    "Bem, agora nos já temos o conjunto de cidades que tem valores iguais ou superiores a média de índices de óbito causados por dengue. Certo, vamos então filtrar estes dados para tentar descobrir se alguma capital está dentro deste índice."
   ]
  },
  {
   "cell_type": "code",
   "execution_count": 19,
   "metadata": {},
   "outputs": [],
   "source": [
    "capitais = [\"São Paulo\", \"Rio de Janeiro\", \"Belo Horizonte\", \"Porto Alegre\", \"Curitiba\", \"Florianópolis\",\n",
    "                \"Goiânia\", \"Salvador\", \"Brasília\", \"Fortaleza\", \"Recife\", \"Manaus\", \"Vitória\",\n",
    "                \"Belém\", \"Natal\", \"Cuiabá\", \"São Luís\", \"João Pessoa\", \"Campo Grande\", \"Maceió\", \"Aracaju\",\n",
    "                \"Teresina\", \"Palmas\", \"Boa Vista\", \"Porto Velho\", \"Rio Branco\"]"
   ]
  },
  {
   "cell_type": "code",
   "execution_count": 20,
   "metadata": {},
   "outputs": [],
   "source": [
    "capitais_com_casos = cidades_medias[cidades_medias['no_cidade'].isin(capitais)]"
   ]
  },
  {
   "cell_type": "code",
   "execution_count": 21,
   "metadata": {},
   "outputs": [
    {
     "data": {
      "text/html": [
       "<div>\n",
       "<style scoped>\n",
       "    .dataframe tbody tr th:only-of-type {\n",
       "        vertical-align: middle;\n",
       "    }\n",
       "\n",
       "    .dataframe tbody tr th {\n",
       "        vertical-align: top;\n",
       "    }\n",
       "\n",
       "    .dataframe thead th {\n",
       "        text-align: right;\n",
       "    }\n",
       "</style>\n",
       "<table border=\"1\" class=\"dataframe\">\n",
       "  <thead>\n",
       "    <tr style=\"text-align: right;\">\n",
       "      <th></th>\n",
       "      <th>indicx</th>\n",
       "      <th>no_cidade</th>\n",
       "    </tr>\n",
       "  </thead>\n",
       "  <tbody>\n",
       "    <tr>\n",
       "      <th>66</th>\n",
       "      <td>8</td>\n",
       "      <td>Rio Branco</td>\n",
       "    </tr>\n",
       "    <tr>\n",
       "      <th>111</th>\n",
       "      <td>5</td>\n",
       "      <td>Manaus</td>\n",
       "    </tr>\n",
       "    <tr>\n",
       "      <th>138</th>\n",
       "      <td>4</td>\n",
       "      <td>Boa Vista</td>\n",
       "    </tr>\n",
       "    <tr>\n",
       "      <th>169</th>\n",
       "      <td>11</td>\n",
       "      <td>Belém</td>\n",
       "    </tr>\n",
       "    <tr>\n",
       "      <th>634</th>\n",
       "      <td>3</td>\n",
       "      <td>São Luís</td>\n",
       "    </tr>\n",
       "  </tbody>\n",
       "</table>\n",
       "</div>"
      ],
      "text/plain": [
       "     indicx   no_cidade\n",
       "66        8  Rio Branco\n",
       "111       5      Manaus\n",
       "138       4   Boa Vista\n",
       "169      11       Belém\n",
       "634       3    São Luís"
      ]
     },
     "execution_count": 21,
     "metadata": {},
     "output_type": "execute_result"
    }
   ],
   "source": [
    "capitais_com_casos.head(5)"
   ]
  },
  {
   "cell_type": "markdown",
   "metadata": {},
   "source": [
    "Pronto! Vamos agora fazer um plot para verificar o número de casos em cada capital identificada com casos de dengue."
   ]
  },
  {
   "cell_type": "code",
   "execution_count": 22,
   "metadata": {},
   "outputs": [
    {
     "data": {
      "image/png": "[encoded data removed]",
      "text/plain": [
       "<Figure size 640x480 with 1 Axes>"
      ]
     },
     "metadata": {},
     "output_type": "display_data"
    },
    {
     "data": {
      "text/plain": [
       "<ggplot: (-9223363295554521635)>"
      ]
     },
     "execution_count": 22,
     "metadata": {},
     "output_type": "execute_result"
    }
   ],
   "source": [
    "(ggplot(capitais_com_casos, aes(x='no_cidade', y='indicx')) +\n",
    "  geom_col(fill = \"#c0392b\") +\n",
    "  geom_text(aes(label = 'indicx')) +\n",
    "  labs(title = 'Capitais com casos de dengue',\n",
    "       y = 'Quantidade de casos',\n",
    "       x = 'Capitais do brasil') +\n",
    "  theme(axis_text_x = element_text(angle = 45, hjust = 1)))"
   ]
  },
  {
   "cell_type": "markdown",
   "metadata": {},
   "source": [
    "Olha só, agora sabemos que Campo Grande e Goiânia tem os maiores indices de óbitos por dengue. Sabemos que ambas capitais pertencem a região do centro-oeste, e uma notícia do G1 indica que este conjunto de dados está correto.\n",
    "\n",
    "https://g1.globo.com/bemestar/noticia/brasil-tem-62-mortes-por-dengue-em-2018.ghtml"
   ]
  }
 ],
 "metadata": {
  "kernelspec": {
   "display_name": "Python 3",
   "language": "python",
   "name": "python3"
  },
  "language_info": {
   "codemirror_mode": {
    "name": "ipython",
    "version": 3
   },
   "file_extension": ".py",
   "mimetype": "text/x-python",
   "name": "python",
   "nbconvert_exporter": "python",
   "pygments_lexer": "ipython3",
   "version": "3.6.4"
  }
 },
 "nbformat": 4,
 "nbformat_minor": 2
}
