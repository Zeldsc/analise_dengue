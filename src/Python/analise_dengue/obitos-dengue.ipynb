{
  "nbformat": 4,
  "nbformat_minor": 0,
  "metadata": {
    "kernelspec": {
      "display_name": "Python 3",
      "language": "python",
      "name": "python3"
    },
    "language_info": {
      "codemirror_mode": {
        "name": "ipython",
        "version": 3
      },
      "file_extension": ".py",
      "mimetype": "text/x-python",
      "name": "python",
      "nbconvert_exporter": "python",
      "pygments_lexer": "ipython3",
      "version": "3.6.4"
    },
    "colab": {
      "name": "obitos-dengue.ipynb",
      "provenance": []
    }
  },
  "cells": [
    {
      "cell_type": "markdown",
      "metadata": {
        "id": "sXQ-DNHLccsC",
        "colab_type": "text"
      },
      "source": [
        "## Análise dados de óbito por Dengue em todo o Brasil\n",
        "\n",
        "O conjunto de dados, contém os casos notificados de dengue que evoluíram para óbito. O cálculo de acordo com o `Ministério da Saúde` (MS), foi realizado utilizando números absolutos.\n",
        "\n",
        "O dataset utilizado sofreu sua ultima atualização em 12 de Junho de 2018.\n",
        "\n",
        "Conjunto de dados disponibilizados em: http://dados.gov.br/dataset/odm6_dengue"
      ]
    },
    {
      "cell_type": "code",
      "metadata": {
        "id": "a1y0k2cWccsG",
        "colab_type": "code",
        "colab": {}
      },
      "source": [
        "import pandas as pd\n",
        "from plotnine import *"
      ],
      "execution_count": 0,
      "outputs": []
    },
    {
      "cell_type": "markdown",
      "metadata": {
        "id": "vkh0L6iDccsP",
        "colab_type": "text"
      },
      "source": [
        "Carregando os dados"
      ]
    },
    {
      "cell_type": "code",
      "metadata": {
        "id": "jzzUOrK6ccsS",
        "colab_type": "code",
        "colab": {}
      },
      "source": [
        "df_dengue = pd.read_csv('https://raw.githubusercontent.com/Zeldsc/analise_dengue/master/dados/obitos-dengue/odm6_denguenone.csv', sep = ',')"
      ],
      "execution_count": 0,
      "outputs": []
    },
    {
      "cell_type": "markdown",
      "metadata": {
        "id": "i13u5q65ccsY",
        "colab_type": "text"
      },
      "source": [
        "Exibindo os dados, limitando a 5 linhas."
      ]
    },
    {
      "cell_type": "code",
      "metadata": {
        "id": "6yAGImzzccsa",
        "colab_type": "code",
        "colab": {
          "base_uri": "https://localhost:8080/",
          "height": 204
        },
        "outputId": "63d67292-9dc7-4dfa-d269-19e837d65e77"
      },
      "source": [
        "# Exibindo os 5 primeiros itens do DataFrame.\n",
        "df_dengue.head(5)"
      ],
      "execution_count": 6,
      "outputs": [
        {
          "output_type": "execute_result",
          "data": {
            "text/html": [
              "<div>\n",
              "<style scoped>\n",
              "    .dataframe tbody tr th:only-of-type {\n",
              "        vertical-align: middle;\n",
              "    }\n",
              "\n",
              "    .dataframe tbody tr th {\n",
              "        vertical-align: top;\n",
              "    }\n",
              "\n",
              "    .dataframe thead th {\n",
              "        text-align: right;\n",
              "    }\n",
              "</style>\n",
              "<table border=\"1\" class=\"dataframe\">\n",
              "  <thead>\n",
              "    <tr style=\"text-align: right;\">\n",
              "      <th></th>\n",
              "      <th>indicx</th>\n",
              "      <th>no_cidade</th>\n",
              "    </tr>\n",
              "  </thead>\n",
              "  <tbody>\n",
              "    <tr>\n",
              "      <th>0</th>\n",
              "      <td>0</td>\n",
              "      <td>Engenheiro Coelho</td>\n",
              "    </tr>\n",
              "    <tr>\n",
              "      <th>1</th>\n",
              "      <td>0</td>\n",
              "      <td>São José do Piauí</td>\n",
              "    </tr>\n",
              "    <tr>\n",
              "      <th>2</th>\n",
              "      <td>1</td>\n",
              "      <td>Jataí</td>\n",
              "    </tr>\n",
              "    <tr>\n",
              "      <th>3</th>\n",
              "      <td>0</td>\n",
              "      <td>Carolina</td>\n",
              "    </tr>\n",
              "    <tr>\n",
              "      <th>4</th>\n",
              "      <td>0</td>\n",
              "      <td>Abre Campo</td>\n",
              "    </tr>\n",
              "  </tbody>\n",
              "</table>\n",
              "</div>"
            ],
            "text/plain": [
              "   indicx          no_cidade\n",
              "0       0  Engenheiro Coelho\n",
              "1       0  São José do Piauí\n",
              "2       1              Jataí\n",
              "3       0           Carolina\n",
              "4       0         Abre Campo"
            ]
          },
          "metadata": {
            "tags": []
          },
          "execution_count": 6
        }
      ]
    },
    {
      "cell_type": "markdown",
      "metadata": {
        "id": "DThtX538ccsf",
        "colab_type": "text"
      },
      "source": [
        "O DataSet é composto por dois atributos, o `indicx`, que representa o índice de casos, e o `no_cidade`, que representa o nome da cidade."
      ]
    },
    {
      "cell_type": "code",
      "metadata": {
        "id": "Vv0DPilAccsh",
        "colab_type": "code",
        "colab": {
          "base_uri": "https://localhost:8080/",
          "height": 297
        },
        "outputId": "87b82491-2616-4c8d-95fb-21f3fab97c6d"
      },
      "source": [
        "# Visão geral (estatística) dos dados\n",
        "df_dengue.describe()"
      ],
      "execution_count": 7,
      "outputs": [
        {
          "output_type": "execute_result",
          "data": {
            "text/html": [
              "<div>\n",
              "<style scoped>\n",
              "    .dataframe tbody tr th:only-of-type {\n",
              "        vertical-align: middle;\n",
              "    }\n",
              "\n",
              "    .dataframe tbody tr th {\n",
              "        vertical-align: top;\n",
              "    }\n",
              "\n",
              "    .dataframe thead th {\n",
              "        text-align: right;\n",
              "    }\n",
              "</style>\n",
              "<table border=\"1\" class=\"dataframe\">\n",
              "  <thead>\n",
              "    <tr style=\"text-align: right;\">\n",
              "      <th></th>\n",
              "      <th>indicx</th>\n",
              "    </tr>\n",
              "  </thead>\n",
              "  <tbody>\n",
              "    <tr>\n",
              "      <th>count</th>\n",
              "      <td>5570.000000</td>\n",
              "    </tr>\n",
              "    <tr>\n",
              "      <th>mean</th>\n",
              "      <td>0.085278</td>\n",
              "    </tr>\n",
              "    <tr>\n",
              "      <th>std</th>\n",
              "      <td>0.709135</td>\n",
              "    </tr>\n",
              "    <tr>\n",
              "      <th>min</th>\n",
              "      <td>0.000000</td>\n",
              "    </tr>\n",
              "    <tr>\n",
              "      <th>25%</th>\n",
              "      <td>0.000000</td>\n",
              "    </tr>\n",
              "    <tr>\n",
              "      <th>50%</th>\n",
              "      <td>0.000000</td>\n",
              "    </tr>\n",
              "    <tr>\n",
              "      <th>75%</th>\n",
              "      <td>0.000000</td>\n",
              "    </tr>\n",
              "    <tr>\n",
              "      <th>max</th>\n",
              "      <td>25.000000</td>\n",
              "    </tr>\n",
              "  </tbody>\n",
              "</table>\n",
              "</div>"
            ],
            "text/plain": [
              "            indicx\n",
              "count  5570.000000\n",
              "mean      0.085278\n",
              "std       0.709135\n",
              "min       0.000000\n",
              "25%       0.000000\n",
              "50%       0.000000\n",
              "75%       0.000000\n",
              "max      25.000000"
            ]
          },
          "metadata": {
            "tags": []
          },
          "execution_count": 7
        }
      ]
    },
    {
      "cell_type": "markdown",
      "metadata": {
        "id": "RrccpXj-ccsl",
        "colab_type": "text"
      },
      "source": [
        "Ao utilizar o método `describe` é possivel perceber que, além da média baixa, a cidade com maior indice de casos, tem 25, enquanto o mais baixo possui 0."
      ]
    },
    {
      "cell_type": "markdown",
      "metadata": {
        "id": "pIAheQezccsm",
        "colab_type": "text"
      },
      "source": [
        "## Cidade com maior índice de mortes causados por dengue\n",
        "\n",
        "Com o método `query` é possivel verificar qual a cidade com o maior índice de mortes causados por dengue."
      ]
    },
    {
      "cell_type": "code",
      "metadata": {
        "id": "CvOLNXCLccso",
        "colab_type": "code",
        "colab": {
          "base_uri": "https://localhost:8080/",
          "height": 80
        },
        "outputId": "0a4dc594-85e1-49cc-9334-557ae87e81ae"
      },
      "source": [
        "df_dengue.query('indicx == indicx.max()')"
      ],
      "execution_count": 8,
      "outputs": [
        {
          "output_type": "execute_result",
          "data": {
            "text/html": [
              "<div>\n",
              "<style scoped>\n",
              "    .dataframe tbody tr th:only-of-type {\n",
              "        vertical-align: middle;\n",
              "    }\n",
              "\n",
              "    .dataframe tbody tr th {\n",
              "        vertical-align: top;\n",
              "    }\n",
              "\n",
              "    .dataframe thead th {\n",
              "        text-align: right;\n",
              "    }\n",
              "</style>\n",
              "<table border=\"1\" class=\"dataframe\">\n",
              "  <thead>\n",
              "    <tr style=\"text-align: right;\">\n",
              "      <th></th>\n",
              "      <th>indicx</th>\n",
              "      <th>no_cidade</th>\n",
              "    </tr>\n",
              "  </thead>\n",
              "  <tbody>\n",
              "    <tr>\n",
              "      <th>4198</th>\n",
              "      <td>25</td>\n",
              "      <td>Fortaleza</td>\n",
              "    </tr>\n",
              "  </tbody>\n",
              "</table>\n",
              "</div>"
            ],
            "text/plain": [
              "      indicx  no_cidade\n",
              "4198      25  Fortaleza"
            ]
          },
          "metadata": {
            "tags": []
          },
          "execution_count": 8
        }
      ]
    },
    {
      "cell_type": "markdown",
      "metadata": {
        "id": "6I9wK7Idccss",
        "colab_type": "text"
      },
      "source": [
        "Listar as 10 cidades com maior incidência de óbitos por dengue, ordenando-as por casos de incidencia."
      ]
    },
    {
      "cell_type": "code",
      "metadata": {
        "id": "Xu46kJADccsu",
        "colab_type": "code",
        "colab": {
          "base_uri": "https://localhost:8080/",
          "height": 359
        },
        "outputId": "54697ec8-2a8c-498e-f541-139eceee43b3"
      },
      "source": [
        "# Ordenamos os valores, e inserimos o argumento ascending como False\n",
        "# Logo, se a ordem crescente (ascending) é falsa, a ordenação será decrescente\n",
        "df_dengue.sort_values('indicx', ascending=False).head(10)"
      ],
      "execution_count": 9,
      "outputs": [
        {
          "output_type": "execute_result",
          "data": {
            "text/html": [
              "<div>\n",
              "<style scoped>\n",
              "    .dataframe tbody tr th:only-of-type {\n",
              "        vertical-align: middle;\n",
              "    }\n",
              "\n",
              "    .dataframe tbody tr th {\n",
              "        vertical-align: top;\n",
              "    }\n",
              "\n",
              "    .dataframe thead th {\n",
              "        text-align: right;\n",
              "    }\n",
              "</style>\n",
              "<table border=\"1\" class=\"dataframe\">\n",
              "  <thead>\n",
              "    <tr style=\"text-align: right;\">\n",
              "      <th></th>\n",
              "      <th>indicx</th>\n",
              "      <th>no_cidade</th>\n",
              "    </tr>\n",
              "  </thead>\n",
              "  <tbody>\n",
              "    <tr>\n",
              "      <th>4198</th>\n",
              "      <td>25</td>\n",
              "      <td>Fortaleza</td>\n",
              "    </tr>\n",
              "    <tr>\n",
              "      <th>5343</th>\n",
              "      <td>24</td>\n",
              "      <td>Goiânia</td>\n",
              "    </tr>\n",
              "    <tr>\n",
              "      <th>3022</th>\n",
              "      <td>15</td>\n",
              "      <td>Brasília</td>\n",
              "    </tr>\n",
              "    <tr>\n",
              "      <th>3769</th>\n",
              "      <td>14</td>\n",
              "      <td>São Paulo</td>\n",
              "    </tr>\n",
              "    <tr>\n",
              "      <th>3046</th>\n",
              "      <td>10</td>\n",
              "      <td>Campinas</td>\n",
              "    </tr>\n",
              "    <tr>\n",
              "      <th>4657</th>\n",
              "      <td>9</td>\n",
              "      <td>Jaboatão dos Guararapes</td>\n",
              "    </tr>\n",
              "    <tr>\n",
              "      <th>319</th>\n",
              "      <td>8</td>\n",
              "      <td>Salvador</td>\n",
              "    </tr>\n",
              "    <tr>\n",
              "      <th>1285</th>\n",
              "      <td>8</td>\n",
              "      <td>Passos</td>\n",
              "    </tr>\n",
              "    <tr>\n",
              "      <th>1533</th>\n",
              "      <td>8</td>\n",
              "      <td>Jaú</td>\n",
              "    </tr>\n",
              "    <tr>\n",
              "      <th>2917</th>\n",
              "      <td>7</td>\n",
              "      <td>Recife</td>\n",
              "    </tr>\n",
              "  </tbody>\n",
              "</table>\n",
              "</div>"
            ],
            "text/plain": [
              "      indicx                no_cidade\n",
              "4198      25                Fortaleza\n",
              "5343      24                  Goiânia\n",
              "3022      15                 Brasília\n",
              "3769      14                São Paulo\n",
              "3046      10                 Campinas\n",
              "4657       9  Jaboatão dos Guararapes\n",
              "319        8                 Salvador\n",
              "1285       8                   Passos\n",
              "1533       8                      Jaú\n",
              "2917       7                   Recife"
            ]
          },
          "metadata": {
            "tags": []
          },
          "execution_count": 9
        }
      ]
    },
    {
      "cell_type": "markdown",
      "metadata": {
        "id": "CNuCRqYSccsy",
        "colab_type": "text"
      },
      "source": [
        "Agrupar os dados pelos valores dos indices para verificar quantos possíveis grupos são."
      ]
    },
    {
      "cell_type": "code",
      "metadata": {
        "id": "MG9tRE-Uccsz",
        "colab_type": "code",
        "colab": {}
      },
      "source": [
        "grupos_cidades_por_indice = df_dengue.groupby('indicx').agg('count')"
      ],
      "execution_count": 0,
      "outputs": []
    },
    {
      "cell_type": "markdown",
      "metadata": {
        "id": "73Lpfaxiccs3",
        "colab_type": "text"
      },
      "source": [
        "Após o agrupamento com o método `groupby`, uma agregação é utiliza para fazer com que, a quantidade de cidades em cada grupo seja contada."
      ]
    },
    {
      "cell_type": "code",
      "metadata": {
        "id": "U_DkjHSlccs4",
        "colab_type": "code",
        "colab": {
          "base_uri": "https://localhost:8080/",
          "height": 204
        },
        "outputId": "98925524-995f-411f-dbf9-27793abe08ad"
      },
      "source": [
        "grupos_cidades_por_indice.head(4) # Exibe os 4 primeiros elementos"
      ],
      "execution_count": 11,
      "outputs": [
        {
          "output_type": "execute_result",
          "data": {
            "text/html": [
              "<div>\n",
              "<style scoped>\n",
              "    .dataframe tbody tr th:only-of-type {\n",
              "        vertical-align: middle;\n",
              "    }\n",
              "\n",
              "    .dataframe tbody tr th {\n",
              "        vertical-align: top;\n",
              "    }\n",
              "\n",
              "    .dataframe thead th {\n",
              "        text-align: right;\n",
              "    }\n",
              "</style>\n",
              "<table border=\"1\" class=\"dataframe\">\n",
              "  <thead>\n",
              "    <tr style=\"text-align: right;\">\n",
              "      <th></th>\n",
              "      <th>no_cidade</th>\n",
              "    </tr>\n",
              "    <tr>\n",
              "      <th>indicx</th>\n",
              "      <th></th>\n",
              "    </tr>\n",
              "  </thead>\n",
              "  <tbody>\n",
              "    <tr>\n",
              "      <th>0</th>\n",
              "      <td>5332</td>\n",
              "    </tr>\n",
              "    <tr>\n",
              "      <th>1</th>\n",
              "      <td>167</td>\n",
              "    </tr>\n",
              "    <tr>\n",
              "      <th>2</th>\n",
              "      <td>31</td>\n",
              "    </tr>\n",
              "    <tr>\n",
              "      <th>3</th>\n",
              "      <td>16</td>\n",
              "    </tr>\n",
              "  </tbody>\n",
              "</table>\n",
              "</div>"
            ],
            "text/plain": [
              "        no_cidade\n",
              "indicx           \n",
              "0            5332\n",
              "1             167\n",
              "2              31\n",
              "3              16"
            ]
          },
          "metadata": {
            "tags": []
          },
          "execution_count": 11
        }
      ]
    },
    {
      "cell_type": "markdown",
      "metadata": {
        "id": "b4aw98TSccs9",
        "colab_type": "text"
      },
      "source": [
        "`Classificar` cada cidade, as classes utilizadas serão os valores do índice do mesmo conjunto de dados, isto está sendo feito basicamente para que, cada grupo fique explicitamente registrado no DataFrame, e não somente através do indice."
      ]
    },
    {
      "cell_type": "code",
      "metadata": {
        "scrolled": true,
        "id": "9zjZsOHTccs-",
        "colab_type": "code",
        "colab": {}
      },
      "source": [
        "grupos_cidades_por_indice.insert(0, 'classe', grupos_cidades_por_indice.index)"
      ],
      "execution_count": 0,
      "outputs": []
    },
    {
      "cell_type": "code",
      "metadata": {
        "id": "6AeWBBMpcctC",
        "colab_type": "code",
        "colab": {
          "base_uri": "https://localhost:8080/",
          "height": 235
        },
        "outputId": "8e5a13cd-f688-4e17-d772-6ea15eda8327"
      },
      "source": [
        "grupos_cidades_por_indice.head(5)"
      ],
      "execution_count": 13,
      "outputs": [
        {
          "output_type": "execute_result",
          "data": {
            "text/html": [
              "<div>\n",
              "<style scoped>\n",
              "    .dataframe tbody tr th:only-of-type {\n",
              "        vertical-align: middle;\n",
              "    }\n",
              "\n",
              "    .dataframe tbody tr th {\n",
              "        vertical-align: top;\n",
              "    }\n",
              "\n",
              "    .dataframe thead th {\n",
              "        text-align: right;\n",
              "    }\n",
              "</style>\n",
              "<table border=\"1\" class=\"dataframe\">\n",
              "  <thead>\n",
              "    <tr style=\"text-align: right;\">\n",
              "      <th></th>\n",
              "      <th>classe</th>\n",
              "      <th>no_cidade</th>\n",
              "    </tr>\n",
              "    <tr>\n",
              "      <th>indicx</th>\n",
              "      <th></th>\n",
              "      <th></th>\n",
              "    </tr>\n",
              "  </thead>\n",
              "  <tbody>\n",
              "    <tr>\n",
              "      <th>0</th>\n",
              "      <td>0</td>\n",
              "      <td>5332</td>\n",
              "    </tr>\n",
              "    <tr>\n",
              "      <th>1</th>\n",
              "      <td>1</td>\n",
              "      <td>167</td>\n",
              "    </tr>\n",
              "    <tr>\n",
              "      <th>2</th>\n",
              "      <td>2</td>\n",
              "      <td>31</td>\n",
              "    </tr>\n",
              "    <tr>\n",
              "      <th>3</th>\n",
              "      <td>3</td>\n",
              "      <td>16</td>\n",
              "    </tr>\n",
              "    <tr>\n",
              "      <th>4</th>\n",
              "      <td>4</td>\n",
              "      <td>5</td>\n",
              "    </tr>\n",
              "  </tbody>\n",
              "</table>\n",
              "</div>"
            ],
            "text/plain": [
              "        classe  no_cidade\n",
              "indicx                   \n",
              "0            0       5332\n",
              "1            1        167\n",
              "2            2         31\n",
              "3            3         16\n",
              "4            4          5"
            ]
          },
          "metadata": {
            "tags": []
          },
          "execution_count": 13
        }
      ]
    },
    {
      "cell_type": "markdown",
      "metadata": {
        "id": "323Alj1vcctG",
        "colab_type": "text"
      },
      "source": [
        "Ao olhar o DataFrame acima, percebe-se que, o indice tem o mesmo valor que o atributo que foi nomeado de classe, porém a diferença é que, estes valores estarão disponíveis dentro do DataFrame.\n",
        "\n",
        "No plot a classe de valores zero será excluído por conter muitos valores e dificultar a visualização de grupos que possuem poucas cidades."
      ]
    },
    {
      "cell_type": "code",
      "metadata": {
        "id": "54207Lj1cctH",
        "colab_type": "code",
        "colab": {}
      },
      "source": [
        "# Removendo as classes zero\n",
        "grupos_cidades_por_indice_sem_zero = grupos_cidades_por_indice[grupos_cidades_por_indice['classe'] != 0]"
      ],
      "execution_count": 0,
      "outputs": []
    },
    {
      "cell_type": "code",
      "metadata": {
        "id": "uKrVoUwdcctL",
        "colab_type": "code",
        "colab": {
          "base_uri": "https://localhost:8080/",
          "height": 500
        },
        "outputId": "6dcb4929-c23c-4866-c9d9-ca640dd37220"
      },
      "source": [
        "(ggplot(grupos_cidades_por_indice_sem_zero, aes(x = 'classe', y = 'no_cidade')) +\n",
        " geom_line()  + \n",
        " labs(title = 'Quantidade de cidades por caso',\n",
        "       y = 'Cidades',\n",
        "       x = 'Quantidade de casos') + \n",
        "  theme(axis_text_x = element_text(angle = 45, hjust = 1)))"
      ],
      "execution_count": 15,
      "outputs": [
        {
          "output_type": "display_data",
          "data": {
            "image/png": "[encoded data removed]",
            "text/plain": [
              "<Figure size 640x480 with 1 Axes>"
            ]
          },
          "metadata": {
            "tags": []
          }
        },
        {
          "output_type": "execute_result",
          "data": {
            "text/plain": [
              "<ggplot: (-9223363272654496326)>"
            ]
          },
          "metadata": {
            "tags": []
          },
          "execution_count": 15
        }
      ]
    },
    {
      "cell_type": "markdown",
      "metadata": {
        "id": "tPMYfWLacctR",
        "colab_type": "text"
      },
      "source": [
        "## Índice médio de casos de dengue\n",
        "\n",
        "Primeiramente remover as cidades que tiveram indice zero de ocorrencia, para evitar interferencias na obtenção de estatisticas."
      ]
    },
    {
      "cell_type": "code",
      "metadata": {
        "id": "nB1D8wu_cctS",
        "colab_type": "code",
        "colab": {}
      },
      "source": [
        "cidades_com_algum_caso = df_dengue.query('indicx >= 1')"
      ],
      "execution_count": 0,
      "outputs": []
    },
    {
      "cell_type": "markdown",
      "metadata": {
        "id": "stAmbQ6XcctW",
        "colab_type": "text"
      },
      "source": [
        "Verificar quantos valores tinham e quantos ficaram após este filtro."
      ]
    },
    {
      "cell_type": "code",
      "metadata": {
        "id": "fvmcK6gFcctX",
        "colab_type": "code",
        "colab": {
          "base_uri": "https://localhost:8080/",
          "height": 55
        },
        "outputId": "e2626dda-7750-4ab3-fc18-cef2369251b0"
      },
      "source": [
        "num_cidades_com_caso = len(cidades_com_algum_caso)\n",
        "num_gerais = len(df_dengue)\n",
        "\n",
        "print('{} - cidades com algum caso de dengue'.format(num_cidades_com_caso))\n",
        "print('{} - Número geral de cidades no conjunto de dados'.format(num_gerais))"
      ],
      "execution_count": 17,
      "outputs": [
        {
          "output_type": "stream",
          "text": [
            "238 - cidades com algum caso de dengue\n",
            "5570 - Número geral de cidades no conjunto de dados\n"
          ],
          "name": "stdout"
        }
      ]
    },
    {
      "cell_type": "markdown",
      "metadata": {
        "id": "qxgjWbGkcctb",
        "colab_type": "text"
      },
      "source": [
        "Obter a média dos índices."
      ]
    },
    {
      "cell_type": "code",
      "metadata": {
        "id": "L4hKM9k2cctc",
        "colab_type": "code",
        "colab": {
          "base_uri": "https://localhost:8080/",
          "height": 36
        },
        "outputId": "9a7f63eb-00f1-4c1f-ede5-ac25b70e9c35"
      },
      "source": [
        "cidades_com_algum_caso['indicx'].mean()"
      ],
      "execution_count": 18,
      "outputs": [
        {
          "output_type": "execute_result",
          "data": {
            "text/plain": [
              "1.995798319327731"
            ]
          },
          "metadata": {
            "tags": []
          },
          "execution_count": 18
        }
      ]
    },
    {
      "cell_type": "markdown",
      "metadata": {
        "id": "jFDlXnONcctf",
        "colab_type": "text"
      },
      "source": [
        "Cidades que possuem casos maiores ou iguais a média."
      ]
    },
    {
      "cell_type": "code",
      "metadata": {
        "id": "dc9zyQzJccth",
        "colab_type": "code",
        "colab": {}
      },
      "source": [
        "cidades_medias = cidades_com_algum_caso.query('indicx >= indicx.mean()')"
      ],
      "execution_count": 0,
      "outputs": []
    },
    {
      "cell_type": "code",
      "metadata": {
        "id": "G3luEnbTcctl",
        "colab_type": "code",
        "colab": {
          "base_uri": "https://localhost:8080/",
          "height": 36
        },
        "outputId": "813795bb-eaa9-435a-864a-7a3163bf23b1"
      },
      "source": [
        "cidades_com_algum_caso['indicx'].mean()"
      ],
      "execution_count": 20,
      "outputs": [
        {
          "output_type": "execute_result",
          "data": {
            "text/plain": [
              "1.995798319327731"
            ]
          },
          "metadata": {
            "tags": []
          },
          "execution_count": 20
        }
      ]
    },
    {
      "cell_type": "markdown",
      "metadata": {
        "id": "yZ22ZZQjcctp",
        "colab_type": "text"
      },
      "source": [
        "Analise das cidades com valores iguais ou acima da média. Lembrando que, esta é a média dos valores entre as cidades que possuem algum caso de óbito."
      ]
    },
    {
      "cell_type": "code",
      "metadata": {
        "id": "6U9-KbOYcctq",
        "colab_type": "code",
        "colab": {
          "base_uri": "https://localhost:8080/",
          "height": 204
        },
        "outputId": "a8c52309-9633-4f89-9b8d-c1930c360686"
      },
      "source": [
        "cidades_medias.head(5)"
      ],
      "execution_count": 21,
      "outputs": [
        {
          "output_type": "execute_result",
          "data": {
            "text/html": [
              "<div>\n",
              "<style scoped>\n",
              "    .dataframe tbody tr th:only-of-type {\n",
              "        vertical-align: middle;\n",
              "    }\n",
              "\n",
              "    .dataframe tbody tr th {\n",
              "        vertical-align: top;\n",
              "    }\n",
              "\n",
              "    .dataframe thead th {\n",
              "        text-align: right;\n",
              "    }\n",
              "</style>\n",
              "<table border=\"1\" class=\"dataframe\">\n",
              "  <thead>\n",
              "    <tr style=\"text-align: right;\">\n",
              "      <th></th>\n",
              "      <th>indicx</th>\n",
              "      <th>no_cidade</th>\n",
              "    </tr>\n",
              "  </thead>\n",
              "  <tbody>\n",
              "    <tr>\n",
              "      <th>44</th>\n",
              "      <td>3</td>\n",
              "      <td>Belo Horizonte</td>\n",
              "    </tr>\n",
              "    <tr>\n",
              "      <th>158</th>\n",
              "      <td>6</td>\n",
              "      <td>Divinópolis</td>\n",
              "    </tr>\n",
              "    <tr>\n",
              "      <th>319</th>\n",
              "      <td>8</td>\n",
              "      <td>Salvador</td>\n",
              "    </tr>\n",
              "    <tr>\n",
              "      <th>390</th>\n",
              "      <td>2</td>\n",
              "      <td>São Vicente</td>\n",
              "    </tr>\n",
              "    <tr>\n",
              "      <th>608</th>\n",
              "      <td>3</td>\n",
              "      <td>Maracanaú</td>\n",
              "    </tr>\n",
              "  </tbody>\n",
              "</table>\n",
              "</div>"
            ],
            "text/plain": [
              "     indicx       no_cidade\n",
              "44        3  Belo Horizonte\n",
              "158       6     Divinópolis\n",
              "319       8        Salvador\n",
              "390       2     São Vicente\n",
              "608       3       Maracanaú"
            ]
          },
          "metadata": {
            "tags": []
          },
          "execution_count": 21
        }
      ]
    },
    {
      "cell_type": "markdown",
      "metadata": {
        "id": "1UoJdvZ3cctt",
        "colab_type": "text"
      },
      "source": [
        "Criação de variaveis contendo as capitais, para verificar quais contem registros de ocorrencia"
      ]
    },
    {
      "cell_type": "code",
      "metadata": {
        "id": "7lxhhJoCcctu",
        "colab_type": "code",
        "colab": {}
      },
      "source": [
        "capitais = [\"São Paulo\", \"Rio de Janeiro\", \"Belo Horizonte\", \"Porto Alegre\", \"Curitiba\", \"Florianópolis\",\n",
        "                \"Goiânia\", \"Salvador\", \"Brasília\", \"Fortaleza\", \"Recife\", \"Manaus\", \"Vitória\",\n",
        "                \"Belém\", \"Natal\", \"Cuiabá\", \"São Luís\", \"João Pessoa\", \"Campo Grande\", \"Maceió\", \"Aracaju\",\n",
        "                \"Teresina\", \"Palmas\", \"Boa Vista\", \"Porto Velho\", \"Rio Branco\"]"
      ],
      "execution_count": 0,
      "outputs": []
    },
    {
      "cell_type": "code",
      "metadata": {
        "id": "rxO4vm28ccty",
        "colab_type": "code",
        "colab": {}
      },
      "source": [
        "capitais_com_casos = cidades_medias[cidades_medias['no_cidade'].isin(capitais)]"
      ],
      "execution_count": 0,
      "outputs": []
    },
    {
      "cell_type": "code",
      "metadata": {
        "id": "GPDuBj4dcct2",
        "colab_type": "code",
        "colab": {
          "base_uri": "https://localhost:8080/",
          "height": 204
        },
        "outputId": "2d141d41-c698-4f70-d38f-cf40960ff4b2"
      },
      "source": [
        "capitais_com_casos.head(5)"
      ],
      "execution_count": 24,
      "outputs": [
        {
          "output_type": "execute_result",
          "data": {
            "text/html": [
              "<div>\n",
              "<style scoped>\n",
              "    .dataframe tbody tr th:only-of-type {\n",
              "        vertical-align: middle;\n",
              "    }\n",
              "\n",
              "    .dataframe tbody tr th {\n",
              "        vertical-align: top;\n",
              "    }\n",
              "\n",
              "    .dataframe thead th {\n",
              "        text-align: right;\n",
              "    }\n",
              "</style>\n",
              "<table border=\"1\" class=\"dataframe\">\n",
              "  <thead>\n",
              "    <tr style=\"text-align: right;\">\n",
              "      <th></th>\n",
              "      <th>indicx</th>\n",
              "      <th>no_cidade</th>\n",
              "    </tr>\n",
              "  </thead>\n",
              "  <tbody>\n",
              "    <tr>\n",
              "      <th>44</th>\n",
              "      <td>3</td>\n",
              "      <td>Belo Horizonte</td>\n",
              "    </tr>\n",
              "    <tr>\n",
              "      <th>319</th>\n",
              "      <td>8</td>\n",
              "      <td>Salvador</td>\n",
              "    </tr>\n",
              "    <tr>\n",
              "      <th>803</th>\n",
              "      <td>7</td>\n",
              "      <td>Natal</td>\n",
              "    </tr>\n",
              "    <tr>\n",
              "      <th>2310</th>\n",
              "      <td>2</td>\n",
              "      <td>Vitória</td>\n",
              "    </tr>\n",
              "    <tr>\n",
              "      <th>2917</th>\n",
              "      <td>7</td>\n",
              "      <td>Recife</td>\n",
              "    </tr>\n",
              "  </tbody>\n",
              "</table>\n",
              "</div>"
            ],
            "text/plain": [
              "      indicx       no_cidade\n",
              "44         3  Belo Horizonte\n",
              "319        8        Salvador\n",
              "803        7           Natal\n",
              "2310       2         Vitória\n",
              "2917       7          Recife"
            ]
          },
          "metadata": {
            "tags": []
          },
          "execution_count": 24
        }
      ]
    },
    {
      "cell_type": "markdown",
      "metadata": {
        "id": "hQyYrjndcct5",
        "colab_type": "text"
      },
      "source": [
        "Através do plot é possível verificar o número de casos em cada capital identificada com casos de dengue."
      ]
    },
    {
      "cell_type": "code",
      "metadata": {
        "id": "oMPr5IJ1cct6",
        "colab_type": "code",
        "colab": {
          "base_uri": "https://localhost:8080/",
          "height": 552
        },
        "outputId": "7bed03fd-79c4-490e-895c-8c7c240d1546"
      },
      "source": [
        "(ggplot(capitais_com_casos, aes(x='no_cidade', y='indicx')) +\n",
        "  geom_col(fill = \"#c0392b\") +\n",
        "  geom_text(aes(label = 'indicx')) +\n",
        "  labs(title = 'Capitais com casos de dengue',\n",
        "       y = 'Quantidade de casos',\n",
        "       x = 'Capitais do brasil') +\n",
        "  theme(axis_text_x = element_text(angle = 45, hjust = 1)))"
      ],
      "execution_count": 25,
      "outputs": [
        {
          "output_type": "display_data",
          "data": {
            "image/png": "[encoded data removed]",
            "text/plain": [
              "<Figure size 640x480 with 1 Axes>"
            ]
          },
          "metadata": {
            "tags": []
          }
        },
        {
          "output_type": "execute_result",
          "data": {
            "text/plain": [
              "<ggplot: (-9223363272655903905)>"
            ]
          },
          "metadata": {
            "tags": []
          },
          "execution_count": 25
        }
      ]
    },
    {
      "cell_type": "markdown",
      "metadata": {
        "id": "JNly8awucct-",
        "colab_type": "text"
      },
      "source": [
        "Após analise, verificou-se que Campo Grande e Goiânia tem os maiores indices de óbitos por dengue, ambas capitais pertencem a região do centro-oeste, dado que é corroborado pela seguinte noticia:\n",
        "https://g1.globo.com/bemestar/noticia/brasil-tem-62-mortes-por-dengue-em-2018.ghtml"
      ]
    }
  ]
}